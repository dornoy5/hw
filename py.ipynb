{
 "cells": [
  {
   "cell_type": "markdown",
   "metadata": {},
   "source": [
    "קלוט מהמשתמש שם ושם משפחה \n"
   ]
  },
  {
   "cell_type": "code",
   "execution_count": 4,
   "metadata": {},
   "outputs": [
    {
     "name": "stdout",
     "output_type": "stream",
     "text": [
      "hello dor noy how is your day\n"
     ]
    }
   ],
   "source": [
    "name= input(\"enter your first name\")\n",
    "sur_name=input(\"enter your last name\")\n",
    "print(f'hello {str(name)} {str(sur_name)} how is your day') "
   ]
  },
  {
   "cell_type": "markdown",
   "metadata": {},
   "source": [
    "להכניס את הנתונים לדיקשנרי.\n"
   ]
  },
  {
   "cell_type": "code",
   "execution_count": 5,
   "metadata": {},
   "outputs": [
    {
     "name": "stdout",
     "output_type": "stream",
     "text": [
      "{'name': 'dor', 'sur_name': 'noy'}\n"
     ]
    }
   ],
   "source": [
    "my_name={\n",
    "    \"name\":input(\"enter your first name\"),\n",
    "    \"sur_name\":input(\"enter your last name\"),\n",
    "}\n",
    "print(my_name)"
   ]
  },
  {
   "cell_type": "markdown",
   "metadata": {},
   "source": [
    "לשמור את זה לקובץ ג'ייסון (לא למדנו)"
   ]
  },
  {
   "cell_type": "code",
   "execution_count": 7,
   "metadata": {},
   "outputs": [
    {
     "name": "stdout",
     "output_type": "stream",
     "text": [
      "{\n",
      "     \"name\": \"dor\",\n",
      "     \"sur_name\": \"noy\"\n",
      "}\n"
     ]
    }
   ],
   "source": [
    "import json\n",
    "\n",
    "my_name = {\n",
    "    \"name\": input(\"enter your first name: \"),\n",
    "    \"sur_name\": input(\"enter your last name: \"),\n",
    "}\n",
    "\n",
    "json_data = json.dumps(my_name, indent=5)\n",
    "\n",
    "print(json_data)\n"
   ]
  },
  {
   "cell_type": "markdown",
   "metadata": {},
   "source": [
    "שמירה כקובץ ג'ייסון"
   ]
  },
  {
   "cell_type": "code",
   "execution_count": 8,
   "metadata": {},
   "outputs": [
    {
     "name": "stdout",
     "output_type": "stream",
     "text": [
      "Data saved as 'my_name.json'\n"
     ]
    }
   ],
   "source": [
    "import json\n",
    "\n",
    "my_name = {\n",
    "    \"name\": input(\"Enter your first name: \"),\n",
    "    \"sur_name\": input(\"Enter your last name: \"),\n",
    "}\n",
    "\n",
    "# Specify the filename for the JSON file\n",
    "json_filename = \"my_name.json\"\n",
    "\n",
    "# Open the file in write mode and save the JSON data\n",
    "with open(json_filename, \"w\") as json_file:\n",
    "    json.dump(my_name, json_file, indent=4)\n",
    "\n",
    "print(f\"Data saved as '{json_filename}'\")\n"
   ]
  },
  {
   "cell_type": "markdown",
   "metadata": {},
   "source": [
    "העלאה מקובץ ג'ייסון וצביעה לירוק"
   ]
  },
  {
   "cell_type": "code",
   "execution_count": 9,
   "metadata": {},
   "outputs": [
    {
     "name": "stdout",
     "output_type": "stream",
     "text": [
      "\u001b[32m{'name': 'dor', 'sur_name': 'noy', 'name1': 'dor', 'sur_name1': 'noy'}\u001b[0m\n"
     ]
    }
   ],
   "source": [
    "import json\n",
    "\n",
    "json_name =\"my_name.json\"\n",
    "\n",
    "with open(json_name) as json_name:\n",
    "    data=json.load(json_name)\n",
    "\n",
    "green_color = \"\\033[32m\"\n",
    "reset_color = \"\\033[0m\"\n",
    "\n",
    "print(f\"{green_color}{data}{reset_color}\")"
   ]
  },
  {
   "cell_type": "markdown",
   "metadata": {},
   "source": [
    "ניקוי טרמינל בתחילת כל פרוגרם"
   ]
  },
  {
   "cell_type": "code",
   "execution_count": null,
   "metadata": {},
   "outputs": [],
   "source": [
    "import os\n",
    "\n",
    "def clear_terminal():\n",
    "    os.system('cls' if os.name == 'nt' else 'clear')\n",
    "\n",
    "clear_terminal()\n"
   ]
  }
 ],
 "metadata": {
  "kernelspec": {
   "display_name": "Python 3",
   "language": "python",
   "name": "python3"
  },
  "language_info": {
   "codemirror_mode": {
    "name": "ipython",
    "version": 3
   },
   "file_extension": ".py",
   "mimetype": "text/x-python",
   "name": "python",
   "nbconvert_exporter": "python",
   "pygments_lexer": "ipython3",
   "version": "3.11.4"
  },
  "orig_nbformat": 4
 },
 "nbformat": 4,
 "nbformat_minor": 2
}
